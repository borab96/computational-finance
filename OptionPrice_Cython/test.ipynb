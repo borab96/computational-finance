{
 "cells": [
  {
   "cell_type": "code",
   "execution_count": 2,
   "metadata": {},
   "outputs": [
    {
     "ename": "ImportError",
     "evalue": "cannot import name 'american_call' from 'option_price' (/home/bora/Dropbox/Programming/Finance/ComputationalFinance/option_price_py/option_price.cpython-38-x86_64-linux-gnu.so)",
     "output_type": "error",
     "traceback": [
      "\u001b[0;31m------------------------------------------------------------------\u001b[0m",
      "\u001b[0;31mImportError\u001b[0m                      Traceback (most recent call last)",
      "\u001b[0;32m<ipython-input-2-388f8f55c5b1>\u001b[0m in \u001b[0;36m<module>\u001b[0;34m\u001b[0m\n\u001b[0;32m----> 1\u001b[0;31m \u001b[0;32mfrom\u001b[0m \u001b[0moption_price\u001b[0m \u001b[0;32mimport\u001b[0m \u001b[0mamerican_call\u001b[0m\u001b[0;34m\u001b[0m\u001b[0;34m\u001b[0m\u001b[0m\n\u001b[0m\u001b[1;32m      2\u001b[0m \u001b[0;34m\u001b[0m\u001b[0m\n\u001b[1;32m      3\u001b[0m \u001b[0;32mimport\u001b[0m \u001b[0mtime\u001b[0m\u001b[0;34m\u001b[0m\u001b[0;34m\u001b[0m\u001b[0m\n",
      "\u001b[0;31mImportError\u001b[0m: cannot import name 'american_call' from 'option_price' (/home/bora/Dropbox/Programming/Finance/ComputationalFinance/option_price_py/option_price.cpython-38-x86_64-linux-gnu.so)"
     ]
    }
   ],
   "source": [
    "from option_price import american_call\n",
    "\n",
    "import time"
   ]
  },
  {
   "cell_type": "code",
   "execution_count": 4,
   "metadata": {},
   "outputs": [
    {
     "ename": "NameError",
     "evalue": "name 'american_call' is not defined",
     "output_type": "error",
     "traceback": [
      "\u001b[0;31m------------------------------------------------------------------\u001b[0m",
      "\u001b[0;31mNameError\u001b[0m                        Traceback (most recent call last)",
      "\u001b[0;32m<ipython-input-4-5414d17553a3>\u001b[0m in \u001b[0;36m<module>\u001b[0;34m\u001b[0m\n\u001b[1;32m      1\u001b[0m \u001b[0;31m# opt = Option(40, 0.3, 0.5)\u001b[0m\u001b[0;34m\u001b[0m\u001b[0;34m\u001b[0m\u001b[0;34m\u001b[0m\u001b[0m\n\u001b[1;32m      2\u001b[0m \u001b[0mt1\u001b[0m \u001b[0;34m=\u001b[0m \u001b[0mtime\u001b[0m\u001b[0;34m.\u001b[0m\u001b[0mtime\u001b[0m\u001b[0;34m(\u001b[0m\u001b[0;34m)\u001b[0m\u001b[0;34m\u001b[0m\u001b[0;34m\u001b[0m\u001b[0m\n\u001b[0;32m----> 3\u001b[0;31m \u001b[0mprint\u001b[0m\u001b[0;34m(\u001b[0m\u001b[0mamerican_call\u001b[0m\u001b[0;34m(\u001b[0m\u001b[0;36m0\u001b[0m\u001b[0;34m,\u001b[0m \u001b[0;36m0\u001b[0m\u001b[0;34m,\u001b[0m \u001b[0;36m50\u001b[0m\u001b[0;34m,\u001b[0m \u001b[0;36m40\u001b[0m\u001b[0;34m,\u001b[0m \u001b[0;36m0.3\u001b[0m\u001b[0;34m,\u001b[0m \u001b[0;36m0.5\u001b[0m\u001b[0;34m)\u001b[0m\u001b[0;34m)\u001b[0m\u001b[0;34m\u001b[0m\u001b[0;34m\u001b[0m\u001b[0m\n\u001b[0m\u001b[1;32m      4\u001b[0m \u001b[0mt2\u001b[0m \u001b[0;34m=\u001b[0m \u001b[0mtime\u001b[0m\u001b[0;34m.\u001b[0m\u001b[0mtime\u001b[0m\u001b[0;34m(\u001b[0m\u001b[0;34m)\u001b[0m\u001b[0;34m\u001b[0m\u001b[0;34m\u001b[0m\u001b[0m\n\u001b[1;32m      5\u001b[0m \u001b[0mprint\u001b[0m\u001b[0;34m(\u001b[0m\u001b[0;34m\"Seconds since epoch =\"\u001b[0m\u001b[0;34m,\u001b[0m \u001b[0mround\u001b[0m\u001b[0;34m(\u001b[0m\u001b[0mt2\u001b[0m\u001b[0;34m-\u001b[0m\u001b[0mt1\u001b[0m\u001b[0;34m,\u001b[0m \u001b[0;36m3\u001b[0m\u001b[0;34m)\u001b[0m\u001b[0;34m)\u001b[0m\u001b[0;34m\u001b[0m\u001b[0;34m\u001b[0m\u001b[0m\n",
      "\u001b[0;31mNameError\u001b[0m: name 'american_call' is not defined"
     ]
    }
   ],
   "source": [
    "# opt = Option(40, 0.3, 0.5)\n",
    "t1 = time.time()\n",
    "print(american_call(0, 0, 50, 40, 0.3, 0.5))\n",
    "t2 = time.time()\n",
    "print(\"Seconds since epoch =\", round(t2-t1, 3))"
   ]
  },
  {
   "cell_type": "code",
   "execution_count": 22,
   "metadata": {},
   "outputs": [],
   "source": [
    "def cython_main(Opt, p):\n",
    "    print(Opt.put(0, 0, p))"
   ]
  },
  {
   "cell_type": "code",
   "execution_count": 6,
   "metadata": {},
   "outputs": [],
   "source": [
    "%load_ext Cython"
   ]
  },
  {
   "cell_type": "code",
   "execution_count": 18,
   "metadata": {},
   "outputs": [
    {
     "name": "stdout",
     "output_type": "stream",
     "text": [
      "10.870970726013184\n",
      "Seconds since epoch = 0.004\n"
     ]
    }
   ],
   "source": [
    "%%cython -f\n",
    "from libc.math cimport sqrt, exp, pow\n",
    "import time\n",
    "\n",
    "\n",
    "\n",
    "cache = {}\n",
    "cdef float american_call(int k, int i, float price, float strike_price, float vol, float expiration_time, float risk_free_rate, int n_div = 30) except? -2: \n",
    "    cdef float u = exp(vol*sqrt(2*expiration_time/(float(n_div))))\n",
    "    cdef float d =1/u\n",
    "    cdef float R = exp(risk_free_rate*expiration_time/(float(n_div)))\n",
    "    cdef float pu = pow((sqrt(R) - sqrt(d))/(sqrt(u)-sqrt(d)), 2)\n",
    "    cdef float pd = pow((sqrt(u)-sqrt(R))/(sqrt(u)-1/sqrt(u)),2)\n",
    "    ins = (k, i, price)\n",
    "    if ins in cache:\n",
    "        return cache[ins]\n",
    "    if k == n_div:\n",
    "        return max(0.0, price-strike_price)\n",
    "    else:\n",
    "        val = max(price-strike_price,(pu*american_call(k+1, i+1, price*u, strike_price,vol, expiration_time, risk_free_rate, n_div=n_div)+(1-pu-pd)*american_call(k+1, i, price,  strike_price,vol, expiration_time, risk_free_rate, n_div=n_div)+pd*american_call(k+1, i-1, price*d,  strike_price,vol, expiration_time, risk_free_rate, n_div=n_div))/R)\n",
    "        cache[ins] = val\n",
    "        return val\n",
    "    \n",
    "t1 = time.time()\n",
    "print(american_call(0, 0, 50, 40, 0.3, 0.5, 0.01))\n",
    "t2 = time.time()\n",
    "print(\"Seconds since epoch =\", round(t2-t1, 3))"
   ]
  },
  {
   "cell_type": "code",
   "execution_count": null,
   "metadata": {},
   "outputs": [],
   "source": []
  }
 ],
 "metadata": {
  "kernelspec": {
   "display_name": "Python 3",
   "language": "python",
   "name": "python3"
  },
  "language_info": {
   "codemirror_mode": {
    "name": "ipython",
    "version": 3
   },
   "file_extension": ".py",
   "mimetype": "text/x-python",
   "name": "python",
   "nbconvert_exporter": "python",
   "pygments_lexer": "ipython3",
   "version": "3.8.5"
  }
 },
 "nbformat": 4,
 "nbformat_minor": 4
}
