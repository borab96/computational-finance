{
 "cells": [
  {
   "cell_type": "code",
   "execution_count": 1,
   "metadata": {},
   "outputs": [],
   "source": [
    "%load_ext Cython"
   ]
  },
  {
   "cell_type": "code",
   "execution_count": 1,
   "metadata": {},
   "outputs": [
    {
     "name": "stderr",
     "output_type": "stream",
     "text": [
      "UsageError: Cell magic `%%cython` not found.\n"
     ]
    }
   ],
   "source": [
    "%%cython --annotate\n",
    "\n",
    "from libc.math cimport sqrt, exp, pow\n",
    "import time\n",
    "\n",
    "# def memoize(func):\n",
    "#     cache = dict()\n",
    "\n",
    "#     def memoized_func(*args):\n",
    "#         if args in cache:\n",
    "#             return cache[args]\n",
    "#         result = func(*args)\n",
    "#         cache[args] = result\n",
    "#         return result\n",
    "\n",
    "#     return memoized_func\n",
    "\n",
    "t1 = time.time()\n",
    "cdef float max_(float a, float b) except? -2:\n",
    "    if a > b:\n",
    "        return a\n",
    "    else:\n",
    "        return b\n",
    "\n",
    "cdef float volatility = 0.3\n",
    "cdef float expiration_time = 0.5\n",
    "cdef int no_of_divisions = 30\n",
    "cdef float risk_free_rate = 0.05\n",
    "cdef float strike_price = 40\n",
    "cdef float u = exp(volatility*sqrt(2*expiration_time/(float(no_of_divisions))))\n",
    "cdef float d =1/u\n",
    "cdef float R = exp(risk_free_rate*expiration_time/(float(no_of_divisions)))\n",
    "cdef float pu = pow((sqrt(R) - sqrt(d))/(sqrt(u)-sqrt(d)), 2)\n",
    "cdef float pd = pow((sqrt(u)-sqrt(R))/(sqrt(u)-1/sqrt(u)),2)\n",
    "\n",
    "cache = {}\n",
    "cdef float american_call(int k, int i, float price) except? -2: \n",
    "    ins = (k, i, price)\n",
    "    if ins in cache:\n",
    "        return cache[ins]\n",
    "    if k == no_of_divisions:\n",
    "        return max(0.0, price-strike_price)\n",
    "    else:\n",
    "        val = max(price-strike_price,(pu*american_call(k+1, i+1, price*u)+(1-pu-pd)*american_call(k+1, i, price)+pd*american_call(k+1, i-1, price*d))/R)\n",
    "        cache[ins] = val\n",
    "        return val\n",
    "    \n",
    "# print(memoize(american_call(0, 0, 50)))\n",
    "print((american_call(0, 0, 50)))\n",
    "t2 = time.time()\n",
    "print(\"Seconds since epoch =\", round(t2-t1, 3))"
   ]
  },
  {
   "cell_type": "code",
   "execution_count": 12,
   "metadata": {},
   "outputs": [
    {
     "name": "stdout",
     "output_type": "stream",
     "text": [
      "10.068251816520748\n",
      "Seconds since epoch = 0.004\n"
     ]
    }
   ],
   "source": [
    "%%cython\n",
    "import time\n",
    "from libc.math cimport sqrt, exp, pow\n",
    "\n",
    "# cdef float american_call(int k, int i, float price) except? -2: \n",
    "#     ins = (k, i, price)\n",
    "#     if ins in cache:\n",
    "#         return cache[ins]\n",
    "#     if k == no_of_divisions:\n",
    "#         return max(0.0, price-strike_price)\n",
    "#     else:\n",
    "#         val = max(price-strike_price,(pu*american_call(k+1, i+1, price*u)+(1-pu-pd)*american_call(k+1, i, price)+pd*american_call(k+1, i-1, price*d))/R)\n",
    "#         cache[ins] = val\n",
    "#         return val\n",
    "cache = {}\n",
    "\n",
    "cdef class Option:\n",
    "    \n",
    "    cdef float volatility\n",
    "    cdef float expiration_time\n",
    "    cdef int no_of_divisions \n",
    "    cdef float risk_free_rate\n",
    "    cdef float strike_price \n",
    "    cdef float u\n",
    "    cdef float d \n",
    "    cdef float R\n",
    "    cdef float pu\n",
    "    cdef float pd \n",
    "   \n",
    "    \n",
    "    def __cinit__(self, float strike, float vol, float exp_time, float r=0.01):\n",
    "       \n",
    "        self.volatility = vol\n",
    "        self.expiration_time = exp_time\n",
    "        self.no_of_divisions = 25\n",
    "        self.risk_free_rate = r\n",
    "        self.strike_price = strike\n",
    "        self.u = exp(self.volatility*sqrt(2*self.expiration_time/(float(self.no_of_divisions))))\n",
    "        self.d =1/self.u\n",
    "        self.R = exp(self.risk_free_rate*self.expiration_time/(float(self.no_of_divisions)))\n",
    "        self.pu = pow((sqrt(self.R) - sqrt(self.d))/(sqrt(self.u)-sqrt(self.d)), 2)\n",
    "        self.pd = pow((sqrt(self.u)-sqrt(self.R))/(sqrt(self.u)-1/sqrt(self.u)),2)\n",
    "    \n",
    "    def call_(self, int k, int i, float price): \n",
    "        global cache\n",
    "        ins = (k, i, price)\n",
    "        if ins in cache:\n",
    "            return cache[ins]\n",
    "        if k == self.no_of_divisions:\n",
    "            return max(0.0, price-self.strike_price)\n",
    "        else:\n",
    "            val = max(price-self.strike_price,(self.pu*self.call(k+1, i+1, price*self.u)+(1-self.pu-self.pd)*self.call(k+1, i, price)+self.pd*self.call(k+1, i-1, price*self.d))/self.R)\n",
    "            cache[ins] = val\n",
    "            return val\n",
    "        \n",
    "    def put_(self, int k, int i, float price): \n",
    "        global cache\n",
    "        ins = (k, i, price)\n",
    "        if ins in cache:\n",
    "            return cache[ins]\n",
    "        if k == self.no_of_divisions:\n",
    "            return max(0.0, -(price-self.strike_price))\n",
    "        else:\n",
    "            val = max(-price+self.strike_price,(self.pu*self.put(k+1, i+1, price*self.u)+(1-self.pu-self.pd)*self.put(k+1, i, price)+self.pd*self.put(k+1, i-1, price*self.d))/self.R)\n",
    "            cache[ins] = val\n",
    "            return val\n",
    "\n",
    "def call(float price, float strike, float vol, float exp_time, float r=0.01):\n",
    "    opt = Option(strike, vol, exp_time, r=r)\n",
    "    return opt.call_(0, 0, price)\n",
    "   \n",
    "\n",
    "opt = Option(41, 0.3, 0.5)\n",
    "t1 = time.time()\n",
    "print(opt.call(0, 0, 50))\n",
    "t2 = time.time()\n",
    "print(\"Seconds since epoch =\", round(t2-t1, 3))\n",
    "del(opt)"
   ]
  },
  {
   "cell_type": "code",
   "execution_count": null,
   "metadata": {},
   "outputs": [],
   "source": [
    "import functools\n",
    "from math import sqrt, exp\n",
    "t1 = time.time()\n",
    "volatility = 0.3\n",
    "expiration_time = 0.5\n",
    "no_of_divisions = 30\n",
    "risk_free_rate = 0.05\n",
    "strike_price = 40\n",
    "u = exp(volatility*sqrt(2*expiration_time/(float(no_of_divisions))))\n",
    "d =1/u\n",
    "R = exp(risk_free_rate*expiration_time/(float(no_of_divisions)))\n",
    "pu = pow((sqrt(R) - sqrt(d))/(sqrt(u)-sqrt(d)), 2)\n",
    "pd = pow((sqrt(u)-sqrt(R))/(sqrt(u)-1/sqrt(u)),2)\n",
    "\n",
    "@functools.lru_cache()\n",
    "def american_call_python(k, i , price):\n",
    "    if k == no_of_divisions:\n",
    "        return max(0.0, price-strike_price)\n",
    "    else:\n",
    "        return max(price-strike_price,(pu*american_call_python(k+1, i+1, price*u)+(1-pu-pd)*american_call_python(k+1, i, price)+pd*american_call_python(k+1, i-1, price*d))/R)\n",
    "\n",
    "print(american_call_python(0, 0, 50))\n",
    "t2 = time.time()\n",
    "print(\"Seconds since epoch =\", t2-t1)"
   ]
  },
  {
   "cell_type": "code",
   "execution_count": null,
   "metadata": {},
   "outputs": [],
   "source": [
    "cache = {(1,2):3} \n",
    "if (1,2) in cache:\n",
    "    print(cache[(1,2)])"
   ]
  },
  {
   "cell_type": "code",
   "execution_count": 15,
   "metadata": {},
   "outputs": [
    {
     "data": {
      "text/plain": [
       "{(1, 2): 3, (2, 3): 2}"
      ]
     },
     "execution_count": 15,
     "metadata": {},
     "output_type": "execute_result"
    }
   ],
   "source": [
    "cache[(2,3)] = 2\n",
    "cache"
   ]
  },
  {
   "cell_type": "code",
   "execution_count": null,
   "metadata": {},
   "outputs": [],
   "source": []
  }
 ],
 "metadata": {
  "kernelspec": {
   "display_name": "Python 3",
   "language": "python",
   "name": "python3"
  },
  "language_info": {
   "codemirror_mode": {
    "name": "ipython",
    "version": 3
   },
   "file_extension": ".py",
   "mimetype": "text/x-python",
   "name": "python",
   "nbconvert_exporter": "python",
   "pygments_lexer": "ipython3",
   "version": "3.8.5"
  }
 },
 "nbformat": 4,
 "nbformat_minor": 4
}
